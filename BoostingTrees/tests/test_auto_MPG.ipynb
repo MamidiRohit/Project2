{
 "cells": [
  {
   "cell_type": "code",
   "execution_count": null,
   "id": "c4e5affc-5d8a-4d22-9cff-413117b5d0e8",
   "metadata": {},
   "outputs": [],
   "source": [
    "#Dataset 4\n",
    "# Load and Process Auto MPG Dataset\n",
    "file_path = \"https://archive.ics.uci.edu/ml/machine-learning-databases/auto-mpg/auto-mpg.data\"\n",
    "columns = ['mpg', 'cylinders', 'displacement', 'horsepower', 'weight', 'acceleration', 'model_year', 'origin']\n",
    "\n",
    "data = pd.read_csv(file_path, delim_whitespace=True, names=columns, na_values=\"?\")\n",
    "\n",
    "# Handle missing values\n",
    "data = data.dropna()\n",
    "\n",
    "# One-hot encode the 'origin' column\n",
    "data = pd.get_dummies(data, columns=['origin'], drop_first=True)\n",
    "\n",
    "# Features and Target\n",
    "X = data.drop('mpg', axis=1).values  # Convert to NumPy array\n",
    "y = data['mpg'].values\n",
    "\n",
    "# Manual Train-Test Split (80-20 split)\n",
    "n_samples = X.shape[0]\n",
    "split_index = int(n_samples * 0.8)\n",
    "indices = np.arange(n_samples)\n",
    "np.random.shuffle(indices)\n",
    "\n",
    "train_indices = indices[:split_index]\n",
    "test_indices = indices[split_index:]\n",
    "\n",
    "X_train, X_test = X[train_indices], X[split_index:]\n",
    "y_train, y_test = y[train_indices], y[split_index:]\n",
    "\n",
    "# Train Gradient Boosting Tree\n",
    "model = GradientBoostingTree(n_estimators=50, learning_rate=0.1, max_depth=3, loss=\"squared_error\")\n",
    "model.fit(X_train, y_train)\n",
    "\n",
    "# Predict on Test Data\n",
    "predictions = model.predict(X_test)\n",
    "\n",
    "# Evaluate\n",
    "mse = np.mean((y_test - predictions) ** 2)\n",
    "print(f\"Mean Squared Error: {mse:.4f}\")\n",
    "\n",
    "# Print some predictions\n",
    "print(\"Predictions for test data:\", predictions[:10])"
   ]
  }
 ],
 "metadata": {
  "kernelspec": {
   "display_name": "Python 3 (ipykernel)",
   "language": "python",
   "name": "python3"
  },
  "language_info": {
   "codemirror_mode": {
    "name": "ipython",
    "version": 3
   },
   "file_extension": ".py",
   "mimetype": "text/x-python",
   "name": "python",
   "nbconvert_exporter": "python",
   "pygments_lexer": "ipython3",
   "version": "3.12.3"
  }
 },
 "nbformat": 4,
 "nbformat_minor": 5
}
