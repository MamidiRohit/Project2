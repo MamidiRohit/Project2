{
 "cells": [
  {
   "cell_type": "code",
   "execution_count": null,
   "id": "6efe086a-e6f9-40f0-8335-5d66ba479905",
   "metadata": {},
   "outputs": [],
   "source": [
    "import pandas as pd\n",
    "import numpy as np\n",
    "\n",
    "# Load dataset\n",
    "dataset1 = pd.read_csv(\"D:/IIT/Fall 2024/ML/Project 2/housing.csv\")\n",
    "\n",
    "# Drop irrelevant column and define features and target\n",
    "X = dataset1.drop(['Price', 'Address'], axis=1)\n",
    "y = dataset1['Price']\n",
    "\n",
    "# Normalize features\n",
    "X = (X - X.mean()) / X.std()\n",
    "\n",
    "# Normalize target variable\n",
    "y_mean = y.mean()\n",
    "y_std = y.std()\n",
    "y = (y - y_mean) / y_std\n",
    "\n",
    "# Manual Train-Test Split (80% Train, 20% Test)\n",
    "n_samples = X.shape[0]\n",
    "split_ratio = 0.8\n",
    "split_index = int(n_samples * split_ratio)\n",
    "\n",
    "indices = np.arange(n_samples)\n",
    "np.random.seed(42)\n",
    "np.random.shuffle(indices)\n",
    "\n",
    "train_indices = indices[:split_index]\n",
    "test_indices = indices[split_index:]\n",
    "\n",
    "X_train, X_test = X.values[train_indices], X.values[test_indices]\n",
    "y_train, y_test = y.values[train_indices], y.values[test_indices]\n",
    "\n",
    "# Train Gradient Boosting Tree\n",
    "model = GradientBoostingTree(n_estimators=50, learning_rate=0.1, max_depth=3, loss=\"squared_error\")\n",
    "model.fit(X_train, y_train)\n",
    "\n",
    "# Predict on Test Data\n",
    "predictions = model.predict(X_test)\n",
    "\n",
    "# Evaluate\n",
    "mse = np.mean((y_test - predictions) ** 2)\n",
    "print(f\"Mean Squared Error on Test Data: {mse:.4f}\")\n",
    "\n",
    "# Rescale Predictions Back to Original Scale\n",
    "predictions_original_scale = predictions * y_std + y_mean\n",
    "print(\"Predictions (original scale):\", predictions_original_scale[:10])\n"
   ]
  }
 ],
 "metadata": {
  "kernelspec": {
   "display_name": "Python 3 (ipykernel)",
   "language": "python",
   "name": "python3"
  },
  "language_info": {
   "codemirror_mode": {
    "name": "ipython",
    "version": 3
   },
   "file_extension": ".py",
   "mimetype": "text/x-python",
   "name": "python",
   "nbconvert_exporter": "python",
   "pygments_lexer": "ipython3",
   "version": "3.12.3"
  }
 },
 "nbformat": 4,
 "nbformat_minor": 5
}
