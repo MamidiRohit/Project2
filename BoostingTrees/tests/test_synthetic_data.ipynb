{
 "cells": [
  {
   "cell_type": "code",
   "execution_count": null,
   "id": "7046b855-7d1e-4639-bac3-7120c4c4a71a",
   "metadata": {},
   "outputs": [],
   "source": [
    "if __name__ == \"__main__\":\n",
    "    # Import necessary libraries\n",
    "    import numpy as np\n",
    "\n",
    "    # Generate synthetic regression data\n",
    "    def make_synthetic_regression(n_samples=100, n_features=7, noise=0.1, random_state=42):\n",
    "        np.random.seed(random_state)\n",
    "        X = np.random.rand(n_samples, n_features)  # Features: random values in [0, 1]\n",
    "        coefficients = np.random.rand(n_features)  # Random coefficients for linear relation\n",
    "        y = X @ coefficients + noise * np.random.randn(n_samples)  # Linear relationship + noise\n",
    "        return X, y\n",
    "\n",
    "    # Compute mean squared error manually\n",
    "    def mean_squared_error(y_true, y_pred):\n",
    "        return np.mean((y_true - y_pred) ** 2)\n",
    "\n",
    "    # Generate data\n",
    "    X, y = make_synthetic_regression(n_samples=100, n_features=7, noise=0.1, random_state=42)\n",
    "    y = y / np.std(y)  # Normalize target for simplicity\n",
    "\n",
    "    # Train Gradient Boosting Tree\n",
    "    model = GradientBoostingTree(n_estimators=50, learning_rate=0.1, max_depth=3, loss=\"squared_error\")\n",
    "    model.fit(X, y)\n",
    "\n",
    "    # Predict\n",
    "    predictions = model.predict(X)\n",
    "\n",
    "    # Evaluate\n",
    "    mse = mean_squared_error(y, predictions)\n",
    "    print(f\"Mean Squared Error: {mse:.4f}\")\n",
    "\n",
    "    print(\"Predictions for new data:\", predictions[:10])  # Display first 10 predictions"
   ]
  }
 ],
 "metadata": {
  "kernelspec": {
   "display_name": "Python 3 (ipykernel)",
   "language": "python",
   "name": "python3"
  },
  "language_info": {
   "codemirror_mode": {
    "name": "ipython",
    "version": 3
   },
   "file_extension": ".py",
   "mimetype": "text/x-python",
   "name": "python",
   "nbconvert_exporter": "python",
   "pygments_lexer": "ipython3",
   "version": "3.12.3"
  }
 },
 "nbformat": 4,
 "nbformat_minor": 5
}
