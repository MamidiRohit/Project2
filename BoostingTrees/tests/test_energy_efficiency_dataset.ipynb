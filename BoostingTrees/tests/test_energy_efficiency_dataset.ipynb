{
 "cells": [
  {
   "cell_type": "code",
   "execution_count": null,
   "id": "89348b60-3494-4790-8e55-af49e307ef75",
   "metadata": {},
   "outputs": [],
   "source": [
    "#Dataset2\n",
    "import pandas as pd\n",
    "import numpy as np\n",
    "\n",
    "# Load Energy Efficiency dataset\n",
    "file_path = \"https://archive.ics.uci.edu/ml/machine-learning-databases/00242/ENB2012_data.xlsx\"\n",
    "data = pd.read_excel(file_path)\n",
    "\n",
    "# Features and Targets\n",
    "X = data.iloc[:, :-2].values  # All columns except the last two (Heating and Cooling loads)\n",
    "y = data.iloc[:, -2].values  # Target: Heating load\n",
    "\n",
    "# Normalize the features (optional but recommended for Gradient Boosting)\n",
    "X = (X - X.mean(axis=0)) / X.std(axis=0)\n",
    "\n",
    "# Train Gradient Boosting Tree\n",
    "model = GradientBoostingTree(n_estimators=50, learning_rate=0.1, max_depth=3, loss=\"squared_error\")\n",
    "model.fit(X, y)\n",
    "\n",
    "# Predict\n",
    "predictions = model.predict(X)\n",
    "\n",
    "# Evaluate\n",
    "mse = np.mean((y - predictions) ** 2)  # Mean Squared Error\n",
    "print(f\"Mean Squared Error: {mse:.4f}\")\n",
    "\n",
    "# Print predictions for new data\n",
    "print(\"Predictions for the dataset:\", predictions[:10])  # Show the first 10 predictions\n"
   ]
  }
 ],
 "metadata": {
  "kernelspec": {
   "display_name": "Python 3 (ipykernel)",
   "language": "python",
   "name": "python3"
  },
  "language_info": {
   "codemirror_mode": {
    "name": "ipython",
    "version": 3
   },
   "file_extension": ".py",
   "mimetype": "text/x-python",
   "name": "python",
   "nbconvert_exporter": "python",
   "pygments_lexer": "ipython3",
   "version": "3.12.3"
  }
 },
 "nbformat": 4,
 "nbformat_minor": 5
}
