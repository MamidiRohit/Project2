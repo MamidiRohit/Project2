{
 "cells": [
  {
   "cell_type": "code",
   "execution_count": null,
   "id": "937b0773-0b66-4bf5-b9cf-9e0dbedc6d70",
   "metadata": {},
   "outputs": [],
   "source": [
    "#Dataset 3\n",
    "import pandas as pd\n",
    "import numpy as np\n",
    "\n",
    "# Load Medical Cost dataset\n",
    "file_path = \"https://raw.githubusercontent.com/stedy/Machine-Learning-with-R-datasets/master/insurance.csv\"\n",
    "data = pd.read_csv(file_path)\n",
    "\n",
    "# One-hot encode categorical variables\n",
    "data = pd.get_dummies(data, drop_first=True)\n",
    "\n",
    "# Features and Target\n",
    "X = data.drop('charges', axis=1).values  # Convert features to NumPy array\n",
    "y = data['charges'].values  # Convert target to NumPy array\n",
    "\n",
    "# Normalize the target variable (y)\n",
    "y_mean = np.mean(y)\n",
    "y_std = np.std(y)\n",
    "y = (y - y_mean) / y_std  # Normalize\n",
    "\n",
    "# Manual Train-Test Split (80% Train, 20% Test)\n",
    "n_samples = X.shape[0]\n",
    "split_ratio = 0.8  # 80% train, 20% test\n",
    "split_index = int(n_samples * split_ratio)\n",
    "\n",
    "# Shuffle indices\n",
    "indices = np.arange(n_samples)\n",
    "np.random.seed(42)  # For reproducibility\n",
    "np.random.shuffle(indices)\n",
    "\n",
    "# Split the data\n",
    "train_indices = indices[:split_index]\n",
    "test_indices = indices[split_index:]\n",
    "\n",
    "X_train, X_test = X[train_indices], X[test_indices]\n",
    "y_train, y_test = y[train_indices], y[test_indices]\n",
    "\n",
    "# Train Gradient Boosting Tree\n",
    "model = GradientBoostingTree(n_estimators=50, learning_rate=0.1, max_depth=3, loss=\"squared_error\")\n",
    "model.fit(X_train, y_train)\n",
    "\n",
    "# Predict on Test Data\n",
    "predictions = model.predict(X_test)\n",
    "\n",
    "# Evaluate\n",
    "mse = np.mean((y_test - predictions) ** 2)\n",
    "print(f\"Mean Squared Error on Test Data: {mse:.4f}\")\n",
    "\n",
    "# Rescale Predictions Back to Original Scale\n",
    "predictions_original_scale = predictions * y_std + y_mean\n",
    "\n",
    "# Print example predictions\n",
    "print(\"Predictions (original scale):\", predictions_original_scale[:10])\n"
   ]
  }
 ],
 "metadata": {
  "kernelspec": {
   "display_name": "Python 3 (ipykernel)",
   "language": "python",
   "name": "python3"
  },
  "language_info": {
   "codemirror_mode": {
    "name": "ipython",
    "version": 3
   },
   "file_extension": ".py",
   "mimetype": "text/x-python",
   "name": "python",
   "nbconvert_exporter": "python",
   "pygments_lexer": "ipython3",
   "version": "3.12.3"
  }
 },
 "nbformat": 4,
 "nbformat_minor": 5
}
