{
 "cells": [
  {
   "cell_type": "code",
   "execution_count": 30,
   "metadata": {
    "id": "RGgvNyo_0Ovk"
   },
   "outputs": [],
   "source": [
    "import numpy as np\n",
    "from sklearn.tree import DecisionTreeRegressor\n",
    "from sklearn.metrics import mean_squared_error,r2_score, mean_absolute_error\n",
    "from sklearn.model_selection import train_test_split\n",
    "from sklearn.datasets import fetch_california_housing\n",
    "import pandas as pd\n",
    "import numpy as np\n",
    "from sklearn.model_selection import train_test_split, KFold\n",
    "import matplotlib.pyplot as plt"
   ]
  },
  {
   "cell_type": "code",
   "execution_count": 31,
   "metadata": {
    "id": "FadvF42TzlgP"
   },
   "outputs": [],
   "source": [
    "class GradientBoostingTree:\n",
    "    def __init__(self, n_estimators=100, learning_rate=0.1, max_depth=3, loss='squared_error'):\n",
    "        self.n_estimators = n_estimators\n",
    "        self.learning_rate = learning_rate\n",
    "        self.max_depth = max_depth\n",
    "        self.loss = loss\n",
    "        self.trees = []\n",
    "        self.init_prediction = None\n",
    "\n",
    "    def _loss_gradient(self, y, y_pred):\n",
    "        \"\"\"\n",
    "        Compute the gradient of the loss function with respect to predictions.\n",
    "        Supports squared error, absolute error, and Huber loss.\n",
    "        \"\"\"\n",
    "        if self.loss == 'squared_error':\n",
    "            return y - y_pred  # Negative gradient for squared error\n",
    "        elif self.loss == 'absolute_error':\n",
    "            return np.sign(y - y_pred)  # Gradient for MAE\n",
    "        elif self.loss == 'huber':\n",
    "            delta = 1.0  # You can tune this value\n",
    "            error = y - y_pred\n",
    "            return np.where(np.abs(error) <= delta, error, delta * np.sign(error))  # Huber gradient\n",
    "        else:\n",
    "            raise NotImplementedError(f\"Loss {self.loss} is not implemented.\")\n",
    "\n",
    "    def fit(self, X, y):\n",
    "        # Initialize prediction\n",
    "        self.init_prediction = np.mean(y)\n",
    "        y_pred = np.full_like(y, self.init_prediction, dtype=np.float64)\n",
    "\n",
    "        for _ in range(self.n_estimators):\n",
    "            # Compute pseudo-residuals\n",
    "            residuals = self._loss_gradient(y, y_pred)\n",
    "\n",
    "            # Fit a weak learner to residuals\n",
    "            tree = DecisionTreeRegressor(max_depth=self.max_depth)\n",
    "            tree.fit(X, residuals)\n",
    "            self.trees.append(tree)\n",
    "\n",
    "            # Update predictions\n",
    "            y_pred += self.learning_rate * tree.predict(X)\n",
    "\n",
    "    def predict(self, X):\n",
    "        y_pred = np.full((X.shape[0],), self.init_prediction, dtype=np.float64)\n",
    "        for tree in self.trees:\n",
    "            y_pred += self.learning_rate * tree.predict(X)\n",
    "        return y_pred\n",
    "\n",
    "\n",
    "    def evaluate(self, y_true, y_pred):\n",
    "        metrics = {\n",
    "            \"Mean Squared Error\": mean_squared_error(y_true, y_pred),\n",
    "            \"Mean Absolute Error\": mean_absolute_error(y_true, y_pred),\n",
    "            \"R2 Score\": r2_score(y_true, y_pred)\n",
    "        }\n",
    "        return metrics\n",
    "\n",
    "    def feature_importances(self):\n",
    "        \"\"\"\n",
    "        Calculate and return feature importances by averaging importances from all trees.\n",
    "        \"\"\"\n",
    "        importances = np.zeros(self.trees[0].n_features_in_)\n",
    "        for tree in self.trees:\n",
    "            importances += tree.feature_importances_\n",
    "        return importances / len(self.trees)\n",
    "\n"
   ]
  },
  {
   "cell_type": "markdown",
   "metadata": {
    "id": "Ox2iwoYn0yRX"
   },
   "source": [
    "### Dataset Load"
   ]
  },
  {
   "cell_type": "code",
   "execution_count": 32,
   "metadata": {
    "id": "D9PA1iUa0Xxo"
   },
   "outputs": [],
   "source": [
    "# Load California Housing data\n",
    "X, y = fetch_california_housing(return_X_y=True)\n",
    "\n",
    "# Split data into training and testing sets\n",
    "X_train, X_test, y_train, y_test = train_test_split(X, y, test_size=0.2, random_state=42)\n",
    "\n",
    "# Train Gradient Boosting Tree\n",
    "gbt = GradientBoostingTree(n_estimators=100, learning_rate=0.1, max_depth=3, loss='squared_error')\n",
    "gbt.fit(X_train, y_train)\n",
    "\n",
    "# Predict and evaluate\n",
    "y_pred = gbt.predict(X_test)\n"
   ]
  },
  {
   "cell_type": "markdown",
   "metadata": {
    "id": "4XFKj6xGE0de"
   },
   "source": [
    "### Train Gradient Boosting Tree with Additional Loss Function (Huber Loss)"
   ]
  },
  {
   "cell_type": "code",
   "execution_count": 33,
   "metadata": {
    "colab": {
     "base_uri": "https://localhost:8080/"
    },
    "id": "Hb6IeW6u-YpS",
    "outputId": "9fba2724-79c0-417c-9c0a-38cac8b51c7c"
   },
   "outputs": [
    {
     "name": "stdout",
     "output_type": "stream",
     "text": [
      "Training Gradient Boosting Tree with Huber Loss...\n"
     ]
    }
   ],
   "source": [
    "print(\"Training Gradient Boosting Tree with Huber Loss...\")\n",
    "gbt_huber = GradientBoostingTree(n_estimators=100, learning_rate=0.1, max_depth=3, loss='huber')\n",
    "gbt_huber.fit(X_train, y_train)"
   ]
  },
  {
   "cell_type": "markdown",
   "metadata": {
    "id": "gmkEPcZ2E40R"
   },
   "source": [
    "### Predict and Evaluate Model"
   ]
  },
  {
   "cell_type": "code",
   "execution_count": 34,
   "metadata": {
    "colab": {
     "base_uri": "https://localhost:8080/"
    },
    "id": "SUTKXlEH-deo",
    "outputId": "df492265-7728-4f68-d06b-aaebd7991dff"
   },
   "outputs": [
    {
     "name": "stdout",
     "output_type": "stream",
     "text": [
      "Mean Squared Error with Huber Loss: 0.3059\n",
      "Mean Absolute Error with Huber Loss: 0.3729\n",
      "R2 Score with Huber Loss: 0.7665\n"
     ]
    }
   ],
   "source": [
    "y_pred_huber = gbt_huber.predict(X_test)\n",
    "metrics_huber = gbt_huber.evaluate(y_test, y_pred_huber)\n",
    "print(f\"Mean Squared Error with Huber Loss: {metrics_huber['Mean Squared Error']:.4f}\")\n",
    "print(f\"Mean Absolute Error with Huber Loss: {metrics_huber['Mean Absolute Error']:.4f}\")\n",
    "print(f\"R2 Score with Huber Loss: {metrics_huber['R2 Score']:.4f}\")"
   ]
  },
  {
   "cell_type": "markdown",
   "metadata": {
    "id": "cLIZnCncFfka"
   },
   "source": [
    "### Feature Importance"
   ]
  },
  {
   "cell_type": "code",
   "execution_count": 35,
   "metadata": {
    "colab": {
     "base_uri": "https://localhost:8080/"
    },
    "id": "Bv8u3Jl_-f69",
    "outputId": "3fe40d88-c216-4e33-dfac-0aa775bd034b"
   },
   "outputs": [
    {
     "name": "stdout",
     "output_type": "stream",
     "text": [
      "\n",
      "Feature Importances (Huber Loss Model):\n",
      "MedInc: 0.2382\n",
      "HouseAge: 0.0787\n",
      "AveRooms: 0.0195\n",
      "AveBedrms: 0.0393\n",
      "Population: 0.0103\n",
      "AveOccup: 0.1124\n",
      "Latitude: 0.2338\n",
      "Longitude: 0.2678\n"
     ]
    }
   ],
   "source": [
    "print(\"\\nFeature Importances (Huber Loss Model):\")\n",
    "importances_huber = gbt_huber.feature_importances()\n",
    "for name, importance in zip(feature_names, importances_huber):\n",
    "    print(f\"{name}: {importance:.4f}\")\n"
   ]
  },
  {
   "cell_type": "markdown",
   "metadata": {
    "id": "mL959BhaFc-_"
   },
   "source": [
    "### Plot Feature Importance"
   ]
  },
  {
   "cell_type": "code",
   "execution_count": 36,
   "metadata": {
    "colab": {
     "base_uri": "https://localhost:8080/",
     "height": 564
    },
    "id": "OIn9uXKK-iUI",
    "outputId": "1cebd7d6-7033-4f86-a5e7-84b9babe49b7"
   },
   "outputs": [
    {
     "data": {
      "image/png": "[encoded data removed]",
      "text/plain": [
       "<Figure size 1000x600 with 1 Axes>"
      ]
     },
     "metadata": {},
     "output_type": "display_data"
    }
   ],
   "source": [
    "plt.figure(figsize=(10, 6))\n",
    "plt.barh(feature_names, importances_huber)\n",
    "plt.xlabel(\"Importance\")\n",
    "plt.ylabel(\"Features\")\n",
    "plt.title(\"Feature Importance (Huber Loss)\")\n",
    "plt.show()\n"
   ]
  },
  {
   "cell_type": "markdown",
   "metadata": {
    "id": "efba77wIFaRN"
   },
   "source": [
    "### Train Gradient Boosting Tree with Squared Error Loss for Comparison"
   ]
  },
  {
   "cell_type": "code",
   "execution_count": 37,
   "metadata": {
    "colab": {
     "base_uri": "https://localhost:8080/"
    },
    "id": "iZMbRjEt-kex",
    "outputId": "7867e193-7965-4a92-fae5-974fa1a2a72c"
   },
   "outputs": [
    {
     "name": "stdout",
     "output_type": "stream",
     "text": [
      "\n",
      "Training Gradient Boosting Tree with Squared Error Loss...\n"
     ]
    }
   ],
   "source": [
    "print(\"\\nTraining Gradient Boosting Tree with Squared Error Loss...\")\n",
    "gbt_squared = GradientBoostingTree(n_estimators=100, learning_rate=0.1, max_depth=3, loss='squared_error')\n",
    "gbt_squared.fit(X_train, y_train)\n"
   ]
  },
  {
   "cell_type": "markdown",
   "metadata": {
    "id": "asb_ABJpFXnN"
   },
   "source": [
    "### Predict and Evaluate Model"
   ]
  },
  {
   "cell_type": "code",
   "execution_count": 38,
   "metadata": {
    "colab": {
     "base_uri": "https://localhost:8080/"
    },
    "id": "sDpHZf80-nC6",
    "outputId": "b3927699-a502-429d-90db-2756b2ae104b"
   },
   "outputs": [
    {
     "name": "stdout",
     "output_type": "stream",
     "text": [
      "Mean Squared Error with Huber Loss: 0.3059\n",
      "Mean Absolute Error with Huber Loss: 0.3729\n",
      "R2 Score with Huber Loss: 0.7665\n"
     ]
    }
   ],
   "source": [
    "y_pred_squared = gbt_squared.predict(X_test)\n",
    "mse_squared = gbt_squared.evaluate(y_test, y_pred_squared)\n",
    "print(f\"Mean Squared Error with Huber Loss: {metrics_huber['Mean Squared Error']:.4f}\")\n",
    "print(f\"Mean Absolute Error with Huber Loss: {metrics_huber['Mean Absolute Error']:.4f}\")\n",
    "print(f\"R2 Score with Huber Loss: {metrics_huber['R2 Score']:.4f}\")"
   ]
  },
  {
   "cell_type": "markdown",
   "metadata": {
    "id": "LUl4t7U2FU1K"
   },
   "source": [
    "### Feature Importance (Squared Error Model)"
   ]
  },
  {
   "cell_type": "code",
   "execution_count": 39,
   "metadata": {
    "colab": {
     "base_uri": "https://localhost:8080/"
    },
    "id": "06t5FMOV-pJZ",
    "outputId": "f5a34263-8a20-4994-a20f-4c5d9e0b2a85"
   },
   "outputs": [
    {
     "name": "stdout",
     "output_type": "stream",
     "text": [
      "\n",
      "Feature Importances (Squared Error Loss Model):\n",
      "MedInc: 0.1884\n",
      "HouseAge: 0.0659\n",
      "AveRooms: 0.0379\n",
      "AveBedrms: 0.0472\n",
      "Population: 0.0112\n",
      "AveOccup: 0.1015\n",
      "Latitude: 0.2711\n",
      "Longitude: 0.2769\n"
     ]
    }
   ],
   "source": [
    "print(\"\\nFeature Importances (Squared Error Loss Model):\")\n",
    "importances_squared = gbt_squared.feature_importances()\n",
    "for name, importance in zip(feature_names, importances_squared):\n",
    "    print(f\"{name}: {importance:.4f}\")\n"
   ]
  },
  {
   "cell_type": "markdown",
   "metadata": {
    "id": "n5KgZtKlFR-G"
   },
   "source": [
    "### Plot Feature Importance"
   ]
  },
  {
   "cell_type": "code",
   "execution_count": 40,
   "metadata": {
    "colab": {
     "base_uri": "https://localhost:8080/",
     "height": 564
    },
    "id": "U56V2crW-rXV",
    "outputId": "df488329-1450-4fe3-d8c6-8be347057538"
   },
   "outputs": [
    {
     "data": {
      "image/png": "[encoded data removed]",
      "text/plain": [
       "<Figure size 1000x600 with 1 Axes>"
      ]
     },
     "metadata": {},
     "output_type": "display_data"
    }
   ],
   "source": [
    "plt.figure(figsize=(10, 6))\n",
    "plt.barh(feature_names, importances_squared)\n",
    "plt.xlabel(\"Importance\")\n",
    "plt.ylabel(\"Features\")\n",
    "plt.title(\"Feature Importance (Squared Error Loss)\")\n",
    "plt.show()"
   ]
  }
 ],
 "metadata": {
  "colab": {
   "provenance": []
  },
  "kernelspec": {
   "display_name": "Python 3",
   "name": "python3"
  },
  "language_info": {
   "name": "python"
  }
 },
 "nbformat": 4,
 "nbformat_minor": 0
}
