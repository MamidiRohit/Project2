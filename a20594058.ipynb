{
 "cells": [
  {
   "cell_type": "code",
   "execution_count": 2,
   "id": "8af14e08",
   "metadata": {},
   "outputs": [],
   "source": [
    "import numpy as np\n",
    "from sklearn.linear_model import LinearRegression\n",
    "from sklearn.metrics import mean_squared_error\n"
   ]
  },
  {
   "cell_type": "code",
   "execution_count": 3,
   "id": "eb08f402",
   "metadata": {},
   "outputs": [],
   "source": [
    "def k_fold_cv(model, X, y, k, metric=mean_squared_error):\n",
    "  \n",
    "\n",
    "    n = len(y)  \n",
    "    indices = np.arange(n)  \n",
    "    np.random.shuffle(indices)  \n",
    "    fold_size = n // k  \n",
    "    scores = []  \n",
    "\n",
    "    for i in range(k):\n",
    "       \n",
    "        val_idx = indices[i * fold_size:(i + 1) * fold_size]\n",
    "        \n",
    "        train_idx = np.setdiff1d(indices, val_idx)\n",
    "\n",
    "        X_train, X_val = X[train_idx], X[val_idx]\n",
    "        y_train, y_val = y[train_idx], y[val_idx]\n",
    "\n",
    "        model.fit(X_train, y_train)\n",
    "\n",
    "        predictions = model.predict(X_val)\n",
    "\n",
    "        score = metric(y_val, predictions)\n",
    "        scores.append(score) \n",
    "\n",
    "    return np.mean(scores)\n"
   ]
  },
  {
   "cell_type": "code",
   "execution_count": 4,
   "id": "fb16867f",
   "metadata": {},
   "outputs": [],
   "source": [
    "def bootstrap(model, X, y, B, metric=mean_squared_error):\n",
    "   \n",
    "    n = len(y)  \n",
    "    scores = []  \n",
    "\n",
    "    for _ in range(B):\n",
    "        indices = np.random.choice(np.arange(n), size=n, replace=True)\n",
    "        out_of_bag = np.setdiff1d(np.arange(n), indices)\n",
    "\n",
    "        X_train, y_train = X[indices], y[indices]\n",
    "        X_oob, y_oob = X[out_of_bag], y[out_of_bag]\n",
    "\n",
    "        model.fit(X_train, y_train)\n",
    "\n",
    "        if len(out_of_bag) > 0:\n",
    "            predictions = model.predict(X_oob)\n",
    "            score = metric(y_oob, predictions) \n",
    "            scores.append(score)  \n",
    "\n",
    "    return np.mean(scores)\n"
   ]
  },
  {
   "cell_type": "code",
   "execution_count": 5,
   "id": "ac898b09",
   "metadata": {},
   "outputs": [
    {
     "name": "stdout",
     "output_type": "stream",
     "text": [
      "Average k-Fold Cross-Validation Error (MSE): 0.010101531424416669\n",
      "Average Bootstrapping Error (MSE): 0.00998579537023119\n"
     ]
    }
   ],
   "source": [
    "from sklearn.datasets import make_regression\n",
    "from sklearn.linear_model import LinearRegression\n",
    "\n",
    "X, y = make_regression(n_samples=100, n_features=5, noise=0.1, random_state=42)\n",
    "\n",
    "model = LinearRegression()\n",
    "\n",
    "k = 5\n",
    "cv_score = k_fold_cv(model, X, y, k)\n",
    "print(f\"Average k-Fold Cross-Validation Error (MSE): {cv_score}\")\n",
    "\n",
    "B = 10\n",
    "bootstrap_score = bootstrap(model, X, y, B)\n",
    "print(f\"Average Bootstrapping Error (MSE): {bootstrap_score}\")\n"
   ]
  },
  {
   "cell_type": "code",
   "execution_count": null,
   "id": "650ec376",
   "metadata": {},
   "outputs": [],
   "source": []
  }
 ],
 "metadata": {
  "kernelspec": {
   "display_name": "Python 3 (ipykernel)",
   "language": "python",
   "name": "python3"
  },
  "language_info": {
   "codemirror_mode": {
    "name": "ipython",
    "version": 3
   },
   "file_extension": ".py",
   "mimetype": "text/x-python",
   "name": "python",
   "nbconvert_exporter": "python",
   "pygments_lexer": "ipython3",
   "version": "3.11.4"
  }
 },
 "nbformat": 4,
 "nbformat_minor": 5
}
