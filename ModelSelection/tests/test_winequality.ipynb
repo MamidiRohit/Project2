{
 "cells": [
  {
   "cell_type": "code",
   "execution_count": null,
   "id": "05c0b70b-5c94-4878-ba40-e8f4b6a0555f",
   "metadata": {},
   "outputs": [],
   "source": [
    "#Dataset4\n",
    "# Load dataset\n",
    "file_path = \"https://archive.ics.uci.edu/ml/machine-learning-databases/wine-quality/winequality-red.csv\"\n",
    "data = pd.read_csv(file_path, sep=';')\n",
    "\n",
    "# Features and Target\n",
    "X = data.drop('quality', axis=1).values\n",
    "y = data['quality'].values\n",
    "\n",
    "# Train Ridge Regression (First Principles)\n",
    "class RidgeRegression:\n",
    "    def __init__(self, alpha=1.0):\n",
    "        self.alpha = alpha\n",
    "\n",
    "    def fit(self, X, y):\n",
    "        X = np.c_[np.ones(X.shape[0]), X]  # Add bias term\n",
    "        I = np.eye(X.shape[1])\n",
    "        I[0, 0] = 0  # Do not regularize bias term\n",
    "        self.coef_ = np.linalg.pinv(X.T @ X + self.alpha * I) @ X.T @ y\n",
    "\n",
    "    def predict(self, X):\n",
    "        X = np.c_[np.ones(X.shape[0]), X]  # Add bias term\n",
    "        return X @ self.coef_\n",
    "\n",
    "model = RidgeRegression(alpha=1.0)\n",
    "model.fit(X, y)\n",
    "\n",
    "# Evaluate\n",
    "predictions = model.predict(X)\n",
    "mse = np.mean((y - predictions) ** 2)\n",
    "print(f\"Mean Squared Error: {mse:.4f}\")\n",
    "print(\"First 10 Predictions:\", predictions[:10])\n"
   ]
  }
 ],
 "metadata": {
  "kernelspec": {
   "display_name": "Python 3 (ipykernel)",
   "language": "python",
   "name": "python3"
  },
  "language_info": {
   "codemirror_mode": {
    "name": "ipython",
    "version": 3
   },
   "file_extension": ".py",
   "mimetype": "text/x-python",
   "name": "python",
   "nbconvert_exporter": "python",
   "pygments_lexer": "ipython3",
   "version": "3.12.3"
  }
 },
 "nbformat": 4,
 "nbformat_minor": 5
}
