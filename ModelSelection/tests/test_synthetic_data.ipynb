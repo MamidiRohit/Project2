{
 "cells": [
  {
   "cell_type": "code",
   "execution_count": null,
   "id": "a15f3420-3a58-4e56-80a8-a2b741795b63",
   "metadata": {},
   "outputs": [],
   "source": [
    "# Example of a simple linear regression model\n",
    "class SimpleLinearModel:\n",
    "    def fit(self, X, y):\n",
    "        self.coef_ = np.linalg.pinv(X) @ y\n",
    "\n",
    "    def predict(self, X):\n",
    "        return X @ self.coef_\n",
    "\n",
    "# Mean squared error loss function\n",
    "def mean_squared_error(y_true, y_pred):\n",
    "    return np.mean((y_true - y_pred) ** 2)\n",
    "\n",
    "# Create synthetic data\n",
    "np.random.seed(42)\n",
    "X = np.random.rand(100, 3)\n",
    "y = X @ np.array([1.5, -2.0, 1.0]) + np.random.randn(100) * 0.1\n",
    "\n",
    "# Initialize model and model selector\n",
    "model = SimpleLinearModel()\n",
    "selector = ModelSelection(model, mean_squared_error)\n",
    "\n",
    "# Perform k-fold cross-validation\n",
    "k_fold_loss = selector.evaluate_model(X, y, method='k_fold', k=5)\n",
    "print(\"K-Fold Cross-Validation Loss:\", k_fold_loss)\n",
    "\n",
    "# Perform bootstrap\n",
    "bootstrap_loss = selector.evaluate_model(X, y, method='bootstrap', B=100)\n",
    "print(\"Bootstrap Loss:\", bootstrap_loss)\n",
    "\n",
    "model.fit(X, y)\n",
    "\n",
    "# Evaluate\n",
    "predictions = model.predict(X)\n",
    "mse = np.mean((y - predictions) ** 2)\n",
    "print(f\"Mean Squared Error: {mse:.4f}\")\n",
    "print(\"First 10 Predictions:\", predictions[:10])"
   ]
  }
 ],
 "metadata": {
  "kernelspec": {
   "display_name": "Python 3 (ipykernel)",
   "language": "python",
   "name": "python3"
  },
  "language_info": {
   "codemirror_mode": {
    "name": "ipython",
    "version": 3
   },
   "file_extension": ".py",
   "mimetype": "text/x-python",
   "name": "python",
   "nbconvert_exporter": "python",
   "pygments_lexer": "ipython3",
   "version": "3.12.3"
  }
 },
 "nbformat": 4,
 "nbformat_minor": 5
}
