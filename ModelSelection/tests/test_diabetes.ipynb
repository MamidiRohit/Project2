{
 "cells": [
  {
   "cell_type": "code",
   "execution_count": null,
   "id": "cbef90b8-69ee-415b-a349-6cb0319cd463",
   "metadata": {},
   "outputs": [],
   "source": [
    "#Dataset3\n",
    "# Load dataset\n",
    "file_path = \"https://raw.githubusercontent.com/jbrownlee/Datasets/master/pima-indians-diabetes.data.csv\"\n",
    "columns = ['Pregnancies', 'Glucose', 'BloodPressure', 'SkinThickness', 'Insulin', 'BMI', 'DiabetesPedigree', 'Age', 'Outcome']\n",
    "data = pd.read_csv(file_path, names=columns)\n",
    "\n",
    "# Features and Target\n",
    "X = data.drop('Outcome', axis=1).values\n",
    "y = data['Outcome'].values\n",
    "\n",
    "# Train Perceptron (Binary Classification)\n",
    "class Perceptron:\n",
    "    def __init__(self, lr=0.1, epochs=100):\n",
    "        self.lr = lr\n",
    "        self.epochs = epochs\n",
    "\n",
    "    def fit(self, X, y):\n",
    "        X = np.c_[np.ones(X.shape[0]), X]  # Add bias term\n",
    "        self.weights = np.zeros(X.shape[1])\n",
    "        for _ in range(self.epochs):\n",
    "            for i in range(len(y)):\n",
    "                prediction = 1 if X[i] @ self.weights > 0 else 0\n",
    "                self.weights += self.lr * (y[i] - prediction) * X[i]\n",
    "\n",
    "    def predict(self, X):\n",
    "        X = np.c_[np.ones(X.shape[0]), X]  # Add bias term\n",
    "        return (X @ self.weights > 0).astype(int)\n",
    "\n",
    "model = Perceptron(lr=0.1, epochs=100)\n",
    "model.fit(X, y)\n",
    "\n",
    "# Evaluate\n",
    "predictions = model.predict(X)\n",
    "accuracy = np.mean(predictions == y)\n",
    "print(f\"Accuracy: {accuracy:.4f}\")\n",
    "print(\"First 10 Predictions:\", predictions[:10])"
   ]
  }
 ],
 "metadata": {
  "kernelspec": {
   "display_name": "Python 3 (ipykernel)",
   "language": "python",
   "name": "python3"
  },
  "language_info": {
   "codemirror_mode": {
    "name": "ipython",
    "version": 3
   },
   "file_extension": ".py",
   "mimetype": "text/x-python",
   "name": "python",
   "nbconvert_exporter": "python",
   "pygments_lexer": "ipython3",
   "version": "3.12.3"
  }
 },
 "nbformat": 4,
 "nbformat_minor": 5
}
