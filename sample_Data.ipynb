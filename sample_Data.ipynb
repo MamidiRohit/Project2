{
  "nbformat": 4,
  "nbformat_minor": 0,
  "metadata": {
    "colab": {
      "provenance": []
    },
    "kernelspec": {
      "name": "python3",
      "display_name": "Python 3"
    },
    "language_info": {
      "name": "python"
    }
  },
  "cells": [
    {
      "cell_type": "code",
      "execution_count": 8,
      "metadata": {
        "colab": {
          "base_uri": "https://localhost:8080/"
        },
        "id": "jNfkj6DKD6MH",
        "outputId": "9c5acd9e-c901-45ec-ebfd-945b81f85b02"
      },
      "outputs": [
        {
          "output_type": "stream",
          "name": "stdout",
          "text": [
            "MSE Sample Data = 0.2936865367241704\n",
            "R^2 Sample Data = 0.902679964795052\n"
          ]
        }
      ],
      "source": [
        "import pandas as pd\n",
        "import numpy as np\n",
        "import matplotlib.pyplot as plt\n",
        "from gbt import gbt  # Importing the GBT class\n",
        "\n",
        "\n",
        "d = pd.read_csv('sample_data.csv')\n",
        "\n",
        "X = d.drop(columns='target').values\n",
        "y = d['target'].values\n",
        "\n",
        "\n",
        "sp_r = 0.8\n",
        "sp_train = int(len(X) * sp_r)\n",
        "train_x, test_x = X[:sp_train], X[sp_train:]\n",
        "train_y, test_y = y[:sp_train], y[sp_train:]\n",
        "\n",
        "\n",
        "model = gbt(num_est=50, learn_quan=0.1, high_dep=3, vis_process=False)\n",
        "model.fit(train_x, train_y)\n",
        "\n",
        "\n",
        "estimators = model.predict(test_x)\n",
        "\n",
        "\n",
        "mse = np.mean((test_y - estimators) ** 2)\n",
        "r2 = model.perform_r2(test_y, estimators)\n",
        "\n",
        "\n",
        "print(f\"MSE Sample Data = {mse}\")\n",
        "print(f\"R^2 Sample Data = {r2}\")"
      ]
    }
  ]
}